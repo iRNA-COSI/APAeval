{
 "cells": [
  {
   "cell_type": "markdown",
   "metadata": {},
   "source": [
    "This notebook contains some test code to:\n",
    "- annotate PAS with gene-IDs\n",
    "- import those annotated bed files\n",
    "- calculate PAS usage for every gene\n",
    "- identify matching sites"
   ]
  },
  {
   "cell_type": "code",
   "execution_count": 1,
   "metadata": {},
   "outputs": [],
   "source": [
    "import pandas as pd\n",
    "import numpy as np\n",
    "import matplotlib.pyplot as plt\n",
    "import gffutils\n",
    "from tqdm import tqdm"
   ]
  },
  {
   "cell_type": "code",
   "execution_count": 21,
   "metadata": {},
   "outputs": [],
   "source": [
    "# fix chromosome ID for this particular input file\n",
    "ttt = pd.read_csv('GSE66092_HeLa_No1No6_BC2_17652_GeneAssigned.bed', delimiter='\\t', header=None, dtype={0: str})\n",
    "ttt[0] = [i.strip('chr') for i in list(ttt[0])]\n",
    "ttt.to_csv('HeLa.bed', sep='\\t', header=None, index=False)"
   ]
  },
  {
   "cell_type": "markdown",
   "metadata": {},
   "source": [
    "## annotate sites\n",
    "\n",
    "- intersect the PAS bed file with the annotation bed that contains only gene features and their coordinates\n",
    "- then import using pandas\n",
    "\n",
    "```bash\n",
    "bedtools intersect -wo -s -a HeLa.bed -b only_genes_hsap.bed > s1.bed\n",
    "\n",
    "bedtools intersect -wo -s -a SRX351950.clusters.2.0.GRCh38.96.bed -b only_genes_hsap.bed > s2.bed\n",
    "```"
   ]
  },
  {
   "cell_type": "code",
   "execution_count": 22,
   "metadata": {},
   "outputs": [],
   "source": [
    "s1 = pd.read_csv('s1.bed', delimiter='\\t', header=None, usecols=[0, 1, 2, 4, 5, 9], names=['chrom', 'chromStart', 'chromEnd', 'score', 'strand', 'name'], dtype={0: str})\n",
    "s2 = pd.read_csv('s2.bed', delimiter='\\t', header=None, usecols=[0, 1, 2, 4, 5, 14], names=['chrom', 'chromStart', 'chromEnd', 'score', 'strand', 'name'], dtype={0: str})"
   ]
  },
  {
   "cell_type": "code",
   "execution_count": 59,
   "metadata": {},
   "outputs": [],
   "source": [
    "def match(cset1, cset2, min_overlap):\n",
    "    '''\n",
    "    Report which sets of coordinates overlap between two lists containing sets of coordinates.\n",
    "    '''\n",
    "    intersect = []\n",
    "    # go through all pairs of sites\n",
    "    for i in range(len(cset1)):        \n",
    "        for j in range(len(cset2)):\n",
    "            # calculate how many coordinate positions overlap\n",
    "            isct = np.intersect1d(cset1[i], cset2[j])\n",
    "            # in this case maximum is reported\n",
    "            percent_overlap = max(len(isct)/len(cset1[i]), len(isct)/len(cset2[j]))\n",
    "            if percent_overlap >= min_overlap:\n",
    "                # output has indices of sites that match, percentage of overlap\n",
    "                intersect.append((i, j, percent_overlap))\n",
    "    return(intersect)"
   ]
  },
  {
   "cell_type": "code",
   "execution_count": 63,
   "metadata": {},
   "outputs": [
    {
     "name": "stderr",
     "output_type": "stream",
     "text": [
      "  7%|▋         | 297/4532 [00:09<02:11, 32.13it/s]\n"
     ]
    }
   ],
   "source": [
    "LEN = 0 # distance to extend PAS coordinates to help find overlap\n",
    "OLP = 0.8 # minimum percent overlap needed to match sites\n",
    "\n",
    "# initialize PAS usage column\n",
    "usage = np.zeros(len(s1))+1\n",
    "\n",
    "# pre-process dfs to contain only overlaping genes\n",
    "#\n",
    "#\n",
    "#\n",
    "#\n",
    "\n",
    "s1_temp = s1.copy()\n",
    "s2_temp = s2.copy()\n",
    "\n",
    "# go through genes\n",
    "for gene in tqdm(np.intersect1d(s1['name'], s2['name'])):\n",
    "    # get sites for the respective gene\n",
    "    gene_mask_s1 = np.array(s1_temp['name']==gene)\n",
    "    gene_mask_s2 = np.array(s2_temp['name']==gene)\n",
    "    \n",
    "    v_gene_s1 = s1_temp[gene_mask_s1]    \n",
    "    v_gene_s2 = s2_temp[gene_mask_s2]\n",
    "    \n",
    "    # drop the processed gene to speed up search\n",
    "    s1_temp.drop(s1_temp[gene_mask_s1].index, inplace=True)\n",
    "    s2_temp.drop(s2_temp[gene_mask_s2].index, inplace=True)\n",
    "    \n",
    "    # if either data set has all zero TPM values for that gene, skip\n",
    "    if np.sum(v_gene_s1['score']) == 0 or np.sum(v_gene_s2['score']) == 0:\n",
    "        continue\n",
    "    \n",
    "    # calculate PAS usage by normalizing TPM per gene\n",
    "    usage_s1 = np.array(v_gene_s1['score'])/np.sum(v_gene_s1['score'])\n",
    "    usage_s2 = np.array(v_gene_s2['score'])/np.sum(v_gene_s2['score'])\n",
    "    \n",
    "    coords_s1 = [np.arange(i['chromStart']-LEN, i['chromEnd']+1+LEN) for _, i in v_gene_s1.iterrows()]\n",
    "    coords_s2 = [np.arange(i['chromStart']-LEN, i['chromEnd']+1+LEN) for _, i in v_gene_s2.iterrows()]\n",
    "    \n",
    "    # match the sites\n",
    "    matched_sites = match(coords_s1, coords_s2, OLP)\n",
    "    if len(matched_sites) > 2:\n",
    "        break\n",
    "    \n",
    "\n",
    "#     sim.append(Jaccard(usage_s1[]))\n",
    "\n",
    "    \n",
    "    "
   ]
  },
  {
   "cell_type": "code",
   "execution_count": 64,
   "metadata": {},
   "outputs": [
    {
     "data": {
      "text/plain": [
       "[(0, 9, 1.0), (1, 12, 1.0), (2, 16, 1.0)]"
      ]
     },
     "execution_count": 64,
     "metadata": {},
     "output_type": "execute_result"
    }
   ],
   "source": [
    "matched_sites"
   ]
  },
  {
   "cell_type": "code",
   "execution_count": 65,
   "metadata": {},
   "outputs": [
    {
     "data": {
      "text/plain": [
       "array([0.2627866 , 0.45032334, 0.28689006])"
      ]
     },
     "execution_count": 65,
     "metadata": {},
     "output_type": "execute_result"
    }
   ],
   "source": [
    "usage_s1"
   ]
  },
  {
   "cell_type": "code",
   "execution_count": 66,
   "metadata": {},
   "outputs": [
    {
     "data": {
      "text/plain": [
       "array([0.        , 0.        , 0.        , 0.        , 0.        ,\n",
       "       0.        , 0.        , 0.        , 0.        , 0.0512825 ,\n",
       "       0.        , 0.        , 0.74871772, 0.        , 0.        ,\n",
       "       0.        , 0.19999978])"
      ]
     },
     "execution_count": 66,
     "metadata": {},
     "output_type": "execute_result"
    }
   ],
   "source": [
    "usage_s2"
   ]
  },
  {
   "cell_type": "code",
   "execution_count": 69,
   "metadata": {},
   "outputs": [
    {
     "data": {
      "text/plain": [
       "[array([1435133, 1435134]),\n",
       " array([1435298, 1435299]),\n",
       " array([1435684, 1435685])]"
      ]
     },
     "execution_count": 69,
     "metadata": {},
     "output_type": "execute_result"
    }
   ],
   "source": [
    "coords_s1"
   ]
  },
  {
   "cell_type": "code",
   "execution_count": 68,
   "metadata": {},
   "outputs": [
    {
     "data": {
      "text/plain": [
       "[array([1413822, 1413823]),\n",
       " array([1413829, 1413830, 1413831, 1413832, 1413833, 1413834, 1413835,\n",
       "        1413836, 1413837, 1413838, 1413839, 1413840, 1413841, 1413842,\n",
       "        1413843, 1413844, 1413845, 1413846, 1413847, 1413848, 1413849,\n",
       "        1413850, 1413851, 1413852, 1413853, 1413854, 1413855, 1413856,\n",
       "        1413857, 1413858]),\n",
       " array([1413884, 1413885, 1413886, 1413887, 1413888, 1413889, 1413890,\n",
       "        1413891, 1413892, 1413893, 1413894, 1413895, 1413896, 1413897,\n",
       "        1413898, 1413899, 1413900, 1413901, 1413902, 1413903, 1413904,\n",
       "        1413905, 1413906, 1413907, 1413908, 1413909, 1413910, 1413911,\n",
       "        1413912, 1413913, 1413914, 1413915, 1413916, 1413917]),\n",
       " array([1420459, 1420460]),\n",
       " array([1423689, 1423690, 1423691, 1423692, 1423693, 1423694, 1423695,\n",
       "        1423696, 1423697, 1423698, 1423699, 1423700, 1423701, 1423702,\n",
       "        1423703, 1423704, 1423705, 1423706, 1423707, 1423708, 1423709,\n",
       "        1423710, 1423711, 1423712, 1423713, 1423714, 1423715, 1423716,\n",
       "        1423717, 1423718, 1423719, 1423720, 1423721, 1423722, 1423723]),\n",
       " array([1426691, 1426692, 1426693, 1426694, 1426695, 1426696, 1426697,\n",
       "        1426698, 1426699]),\n",
       " array([1434954, 1434955]),\n",
       " array([1434979, 1434980, 1434981, 1434982, 1434983, 1434984, 1434985,\n",
       "        1434986, 1434987, 1434988, 1434989, 1434990, 1434991, 1434992]),\n",
       " array([1435080, 1435081, 1435082, 1435083, 1435084, 1435085, 1435086,\n",
       "        1435087, 1435088, 1435089, 1435090, 1435091, 1435092, 1435093,\n",
       "        1435094, 1435095, 1435096, 1435097, 1435098, 1435099, 1435100,\n",
       "        1435101, 1435102, 1435103, 1435104, 1435105]),\n",
       " array([1435121, 1435122, 1435123, 1435124, 1435125, 1435126, 1435127,\n",
       "        1435128, 1435129, 1435130, 1435131, 1435132, 1435133, 1435134,\n",
       "        1435135, 1435136, 1435137, 1435138, 1435139, 1435140, 1435141,\n",
       "        1435142, 1435143, 1435144, 1435145, 1435146, 1435147, 1435148,\n",
       "        1435149, 1435150, 1435151, 1435152, 1435153, 1435154]),\n",
       " array([1435164, 1435165, 1435166, 1435167, 1435168, 1435169, 1435170,\n",
       "        1435171, 1435172, 1435173, 1435174, 1435175, 1435176, 1435177,\n",
       "        1435178, 1435179, 1435180, 1435181, 1435182, 1435183, 1435184,\n",
       "        1435185, 1435186, 1435187, 1435188, 1435189, 1435190]),\n",
       " array([1435228, 1435229, 1435230, 1435231, 1435232, 1435233, 1435234,\n",
       "        1435235, 1435236, 1435237, 1435238, 1435239, 1435240, 1435241,\n",
       "        1435242, 1435243, 1435244, 1435245, 1435246, 1435247, 1435248,\n",
       "        1435249, 1435250, 1435251, 1435252, 1435253]),\n",
       " array([1435268, 1435269, 1435270, 1435271, 1435272, 1435273, 1435274,\n",
       "        1435275, 1435276, 1435277, 1435278, 1435279, 1435280, 1435281,\n",
       "        1435282, 1435283, 1435284, 1435285, 1435286, 1435287, 1435288,\n",
       "        1435289, 1435290, 1435291, 1435292, 1435293, 1435294, 1435295,\n",
       "        1435296, 1435297, 1435298, 1435299, 1435300, 1435301, 1435302,\n",
       "        1435303, 1435304, 1435305, 1435306, 1435307, 1435308, 1435309,\n",
       "        1435310, 1435311, 1435312, 1435313, 1435314, 1435315, 1435316,\n",
       "        1435317, 1435318, 1435319, 1435320, 1435321, 1435322]),\n",
       " array([1435337, 1435338]),\n",
       " array([1435425, 1435426]),\n",
       " array([1435444, 1435445, 1435446, 1435447, 1435448, 1435449, 1435450,\n",
       "        1435451, 1435452, 1435453, 1435454, 1435455, 1435456, 1435457,\n",
       "        1435458, 1435459, 1435460, 1435461, 1435462, 1435463, 1435464,\n",
       "        1435465, 1435466, 1435467, 1435468, 1435469, 1435470, 1435471,\n",
       "        1435472, 1435473, 1435474, 1435475, 1435476, 1435477, 1435478,\n",
       "        1435479, 1435480]),\n",
       " array([1435645, 1435646, 1435647, 1435648, 1435649, 1435650, 1435651,\n",
       "        1435652, 1435653, 1435654, 1435655, 1435656, 1435657, 1435658,\n",
       "        1435659, 1435660, 1435661, 1435662, 1435663, 1435664, 1435665,\n",
       "        1435666, 1435667, 1435668, 1435669, 1435670, 1435671, 1435672,\n",
       "        1435673, 1435674, 1435675, 1435676, 1435677, 1435678, 1435679,\n",
       "        1435680, 1435681, 1435682, 1435683, 1435684, 1435685, 1435686,\n",
       "        1435687, 1435688, 1435689, 1435690])]"
      ]
     },
     "execution_count": 68,
     "metadata": {},
     "output_type": "execute_result"
    }
   ],
   "source": [
    "coords_s2"
   ]
  }
 ],
 "metadata": {
  "kernelspec": {
   "display_name": "Python 3",
   "language": "python",
   "name": "python3"
  },
  "language_info": {
   "codemirror_mode": {
    "name": "ipython",
    "version": 3
   },
   "file_extension": ".py",
   "mimetype": "text/x-python",
   "name": "python",
   "nbconvert_exporter": "python",
   "pygments_lexer": "ipython3",
   "version": "3.8.5"
  }
 },
 "nbformat": 4,
 "nbformat_minor": 4
}
