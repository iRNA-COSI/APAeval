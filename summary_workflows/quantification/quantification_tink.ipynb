{
 "cells": [
  {
   "cell_type": "markdown",
   "metadata": {},
   "source": [
    "\n",
    "Working definition: Distance between poly(A) site distributions from quantification and from the corresponding 3'end dataset calculated for each gene separately.\n",
    "\n",
    "Notes: Could either be for all genes or a subset. Possibly with some threshold value to count genes with correct quantification. Whereas Q2 focuses on expression value, this measures site usage (values in [0,1]).\n",
    "\n",
    " \n",
    "Could calculate the weighted Jaccard similarity of relative usage of all sites (from 3'-seq and RNA-seq). For each gene, after taking the union of all sites, the relative usage of site i is calculated as TPM_i/sum_j(TPM_j) to yield vectors T = [t1,..,tn] and P[p1,..,pn] for the 3' end and RNA-seq based values. Similarity is then J = (sum_i min(ti,pi))/(sum_i max(ti, pi)).\n",
    "\n",
    "The procedure for mapping sites between the two sets needs to be defined."
   ]
  },
  {
   "cell_type": "code",
   "execution_count": 74,
   "metadata": {},
   "outputs": [],
   "source": [
    "import pandas as pd\n",
    "import numpy as np\n",
    "import matplotlib.pyplot as plt\n",
    "import gffutils\n",
    "from tqdm import tqdm"
   ]
  },
  {
   "cell_type": "code",
   "execution_count": 57,
   "metadata": {},
   "outputs": [],
   "source": [
    "# create bed annotation file that has unique features (remove children from gff)\n",
    "\n",
    "db = gffutils.create_db('gencode.v38.annotation.gff3', dbfn='hsap.db', force=False, verbose=True, merge_strategy='merge')\n",
    "\n",
    "all_genes = [i.id for i in db.features_of_type('gene')]\n",
    "\n",
    "with open('only_genes.bed', 'w') as f:\n",
    "    f.write('chrom\\tchromStart\\tchromEnd\\tname\\tscore\\tstrand\\n')\n",
    "    for gene in all_genes:\n",
    "        f.write(db[gene].seqid.strip('chr') + '\\t')\n",
    "        f.write(str(db[gene].start) + '\\t')\n",
    "        f.write(str(db[gene].end) + '\\t')\n",
    "        f.write(gene + '\\t')\n",
    "        f.write('0\\t')\n",
    "        f.write(db[gene].strand + '\\n')"
   ]
  },
  {
   "cell_type": "markdown",
   "metadata": {},
   "source": [
    "## annotate sites\n",
    "\n",
    "```bash\n",
    "wget http://ftp.ebi.ac.uk/pub/databases/gencode/Gencode_human/release_38/gencode.v38.annotation.gff3.gz\n",
    "\n",
    "gunzip gencode.v38.annotation.gff3.gz\n",
    "\n",
    "bedtools intersect -wo -s -a GSM1003590.clusters.2.0.GRCh38.96.bed -b only_genes.bed > s1.bed\n",
    "\n",
    "bedtools intersect -wo -s -a SRX351950.clusters.2.0.GRCh38.96.bed -b only_genes.bed > s2.bed\n",
    "```"
   ]
  },
  {
   "cell_type": "code",
   "execution_count": 130,
   "metadata": {},
   "outputs": [],
   "source": [
    "s1 = pd.read_csv('s1.bed', delimiter='\\t', header=None, usecols=[0, 1, 2, 4, 5, 14], dtype={0: str})[[0, 1, 2, 14, 4, 5]]\n",
    "s2 = pd.read_csv('s2.bed', delimiter='\\t', header=None, usecols=[0, 1, 2, 4, 5, 14], dtype={0: str})[[0, 1, 2, 14, 4, 5]]"
   ]
  },
  {
   "cell_type": "code",
   "execution_count": 149,
   "metadata": {},
   "outputs": [
    {
     "name": "stderr",
     "output_type": "stream",
     "text": [
      "  0%|          | 72/33203 [00:03<29:53, 18.48it/s]\n"
     ]
    },
    {
     "ename": "KeyboardInterrupt",
     "evalue": "",
     "output_type": "error",
     "traceback": [
      "\u001b[0;31m---------------------------------------------------------------------------\u001b[0m",
      "\u001b[0;31mKeyboardInterrupt\u001b[0m                         Traceback (most recent call last)",
      "\u001b[0;32m<ipython-input-149-40de5fbdc244>\u001b[0m in \u001b[0;36m<module>\u001b[0;34m\u001b[0m\n\u001b[1;32m      8\u001b[0m \u001b[0;32mfor\u001b[0m \u001b[0mgene\u001b[0m \u001b[0;32min\u001b[0m \u001b[0mtqdm\u001b[0m\u001b[0;34m(\u001b[0m\u001b[0mnp\u001b[0m\u001b[0;34m.\u001b[0m\u001b[0mintersect1d\u001b[0m\u001b[0;34m(\u001b[0m\u001b[0ms1\u001b[0m\u001b[0;34m[\u001b[0m\u001b[0;36m14\u001b[0m\u001b[0;34m]\u001b[0m\u001b[0;34m,\u001b[0m \u001b[0ms2\u001b[0m\u001b[0;34m[\u001b[0m\u001b[0;36m14\u001b[0m\u001b[0;34m]\u001b[0m\u001b[0;34m)\u001b[0m\u001b[0;34m)\u001b[0m\u001b[0;34m:\u001b[0m\u001b[0;34m\u001b[0m\u001b[0;34m\u001b[0m\u001b[0m\n\u001b[1;32m      9\u001b[0m     \u001b[0;31m# get sites for the respective gene\u001b[0m\u001b[0;34m\u001b[0m\u001b[0;34m\u001b[0m\u001b[0;34m\u001b[0m\u001b[0m\n\u001b[0;32m---> 10\u001b[0;31m     \u001b[0mgene_mask_s1\u001b[0m \u001b[0;34m=\u001b[0m \u001b[0mnp\u001b[0m\u001b[0;34m.\u001b[0m\u001b[0marray\u001b[0m\u001b[0;34m(\u001b[0m\u001b[0ms1_temp\u001b[0m\u001b[0;34m[\u001b[0m\u001b[0;36m14\u001b[0m\u001b[0;34m]\u001b[0m\u001b[0;34m==\u001b[0m\u001b[0mgene\u001b[0m\u001b[0;34m)\u001b[0m\u001b[0;34m\u001b[0m\u001b[0;34m\u001b[0m\u001b[0m\n\u001b[0m\u001b[1;32m     11\u001b[0m     \u001b[0mgene_mask_s2\u001b[0m \u001b[0;34m=\u001b[0m \u001b[0mnp\u001b[0m\u001b[0;34m.\u001b[0m\u001b[0marray\u001b[0m\u001b[0;34m(\u001b[0m\u001b[0ms2_temp\u001b[0m\u001b[0;34m[\u001b[0m\u001b[0;36m14\u001b[0m\u001b[0;34m]\u001b[0m\u001b[0;34m==\u001b[0m\u001b[0mgene\u001b[0m\u001b[0;34m)\u001b[0m\u001b[0;34m\u001b[0m\u001b[0;34m\u001b[0m\u001b[0m\n\u001b[1;32m     12\u001b[0m \u001b[0;34m\u001b[0m\u001b[0m\n",
      "\u001b[0;32m~/anaconda3/lib/python3.8/site-packages/pandas/core/ops/common.py\u001b[0m in \u001b[0;36mnew_method\u001b[0;34m(self, other)\u001b[0m\n\u001b[1;32m     63\u001b[0m         \u001b[0mother\u001b[0m \u001b[0;34m=\u001b[0m \u001b[0mitem_from_zerodim\u001b[0m\u001b[0;34m(\u001b[0m\u001b[0mother\u001b[0m\u001b[0;34m)\u001b[0m\u001b[0;34m\u001b[0m\u001b[0;34m\u001b[0m\u001b[0m\n\u001b[1;32m     64\u001b[0m \u001b[0;34m\u001b[0m\u001b[0m\n\u001b[0;32m---> 65\u001b[0;31m         \u001b[0;32mreturn\u001b[0m \u001b[0mmethod\u001b[0m\u001b[0;34m(\u001b[0m\u001b[0mself\u001b[0m\u001b[0;34m,\u001b[0m \u001b[0mother\u001b[0m\u001b[0;34m)\u001b[0m\u001b[0;34m\u001b[0m\u001b[0;34m\u001b[0m\u001b[0m\n\u001b[0m\u001b[1;32m     66\u001b[0m \u001b[0;34m\u001b[0m\u001b[0m\n\u001b[1;32m     67\u001b[0m     \u001b[0;32mreturn\u001b[0m \u001b[0mnew_method\u001b[0m\u001b[0;34m\u001b[0m\u001b[0;34m\u001b[0m\u001b[0m\n",
      "\u001b[0;32m~/anaconda3/lib/python3.8/site-packages/pandas/core/ops/__init__.py\u001b[0m in \u001b[0;36mwrapper\u001b[0;34m(self, other)\u001b[0m\n\u001b[1;32m    368\u001b[0m         \u001b[0mrvalues\u001b[0m \u001b[0;34m=\u001b[0m \u001b[0mextract_array\u001b[0m\u001b[0;34m(\u001b[0m\u001b[0mother\u001b[0m\u001b[0;34m,\u001b[0m \u001b[0mextract_numpy\u001b[0m\u001b[0;34m=\u001b[0m\u001b[0;32mTrue\u001b[0m\u001b[0;34m)\u001b[0m\u001b[0;34m\u001b[0m\u001b[0;34m\u001b[0m\u001b[0m\n\u001b[1;32m    369\u001b[0m \u001b[0;34m\u001b[0m\u001b[0m\n\u001b[0;32m--> 370\u001b[0;31m         \u001b[0mres_values\u001b[0m \u001b[0;34m=\u001b[0m \u001b[0mcomparison_op\u001b[0m\u001b[0;34m(\u001b[0m\u001b[0mlvalues\u001b[0m\u001b[0;34m,\u001b[0m \u001b[0mrvalues\u001b[0m\u001b[0;34m,\u001b[0m \u001b[0mop\u001b[0m\u001b[0;34m)\u001b[0m\u001b[0;34m\u001b[0m\u001b[0;34m\u001b[0m\u001b[0m\n\u001b[0m\u001b[1;32m    371\u001b[0m \u001b[0;34m\u001b[0m\u001b[0m\n\u001b[1;32m    372\u001b[0m         \u001b[0;32mreturn\u001b[0m \u001b[0mself\u001b[0m\u001b[0;34m.\u001b[0m\u001b[0m_construct_result\u001b[0m\u001b[0;34m(\u001b[0m\u001b[0mres_values\u001b[0m\u001b[0;34m,\u001b[0m \u001b[0mname\u001b[0m\u001b[0;34m=\u001b[0m\u001b[0mres_name\u001b[0m\u001b[0;34m)\u001b[0m\u001b[0;34m\u001b[0m\u001b[0;34m\u001b[0m\u001b[0m\n",
      "\u001b[0;32m~/anaconda3/lib/python3.8/site-packages/pandas/core/ops/array_ops.py\u001b[0m in \u001b[0;36mcomparison_op\u001b[0;34m(left, right, op)\u001b[0m\n\u001b[1;32m    242\u001b[0m \u001b[0;34m\u001b[0m\u001b[0m\n\u001b[1;32m    243\u001b[0m     \u001b[0;32melif\u001b[0m \u001b[0mis_object_dtype\u001b[0m\u001b[0;34m(\u001b[0m\u001b[0mlvalues\u001b[0m\u001b[0;34m.\u001b[0m\u001b[0mdtype\u001b[0m\u001b[0;34m)\u001b[0m\u001b[0;34m:\u001b[0m\u001b[0;34m\u001b[0m\u001b[0;34m\u001b[0m\u001b[0m\n\u001b[0;32m--> 244\u001b[0;31m         \u001b[0mres_values\u001b[0m \u001b[0;34m=\u001b[0m \u001b[0mcomp_method_OBJECT_ARRAY\u001b[0m\u001b[0;34m(\u001b[0m\u001b[0mop\u001b[0m\u001b[0;34m,\u001b[0m \u001b[0mlvalues\u001b[0m\u001b[0;34m,\u001b[0m \u001b[0mrvalues\u001b[0m\u001b[0;34m)\u001b[0m\u001b[0;34m\u001b[0m\u001b[0;34m\u001b[0m\u001b[0m\n\u001b[0m\u001b[1;32m    245\u001b[0m \u001b[0;34m\u001b[0m\u001b[0m\n\u001b[1;32m    246\u001b[0m     \u001b[0;32melse\u001b[0m\u001b[0;34m:\u001b[0m\u001b[0;34m\u001b[0m\u001b[0;34m\u001b[0m\u001b[0m\n",
      "\u001b[0;32m~/anaconda3/lib/python3.8/site-packages/pandas/core/ops/array_ops.py\u001b[0m in \u001b[0;36mcomp_method_OBJECT_ARRAY\u001b[0;34m(op, x, y)\u001b[0m\n\u001b[1;32m     54\u001b[0m         \u001b[0mresult\u001b[0m \u001b[0;34m=\u001b[0m \u001b[0mlibops\u001b[0m\u001b[0;34m.\u001b[0m\u001b[0mvec_compare\u001b[0m\u001b[0;34m(\u001b[0m\u001b[0mx\u001b[0m\u001b[0;34m.\u001b[0m\u001b[0mravel\u001b[0m\u001b[0;34m(\u001b[0m\u001b[0;34m)\u001b[0m\u001b[0;34m,\u001b[0m \u001b[0my\u001b[0m\u001b[0;34m.\u001b[0m\u001b[0mravel\u001b[0m\u001b[0;34m(\u001b[0m\u001b[0;34m)\u001b[0m\u001b[0;34m,\u001b[0m \u001b[0mop\u001b[0m\u001b[0;34m)\u001b[0m\u001b[0;34m\u001b[0m\u001b[0;34m\u001b[0m\u001b[0m\n\u001b[1;32m     55\u001b[0m     \u001b[0;32melse\u001b[0m\u001b[0;34m:\u001b[0m\u001b[0;34m\u001b[0m\u001b[0;34m\u001b[0m\u001b[0m\n\u001b[0;32m---> 56\u001b[0;31m         \u001b[0mresult\u001b[0m \u001b[0;34m=\u001b[0m \u001b[0mlibops\u001b[0m\u001b[0;34m.\u001b[0m\u001b[0mscalar_compare\u001b[0m\u001b[0;34m(\u001b[0m\u001b[0mx\u001b[0m\u001b[0;34m.\u001b[0m\u001b[0mravel\u001b[0m\u001b[0;34m(\u001b[0m\u001b[0;34m)\u001b[0m\u001b[0;34m,\u001b[0m \u001b[0my\u001b[0m\u001b[0;34m,\u001b[0m \u001b[0mop\u001b[0m\u001b[0;34m)\u001b[0m\u001b[0;34m\u001b[0m\u001b[0;34m\u001b[0m\u001b[0m\n\u001b[0m\u001b[1;32m     57\u001b[0m     \u001b[0;32mreturn\u001b[0m \u001b[0mresult\u001b[0m\u001b[0;34m.\u001b[0m\u001b[0mreshape\u001b[0m\u001b[0;34m(\u001b[0m\u001b[0mx\u001b[0m\u001b[0;34m.\u001b[0m\u001b[0mshape\u001b[0m\u001b[0;34m)\u001b[0m\u001b[0;34m\u001b[0m\u001b[0;34m\u001b[0m\u001b[0m\n\u001b[1;32m     58\u001b[0m \u001b[0;34m\u001b[0m\u001b[0m\n",
      "\u001b[0;31mKeyboardInterrupt\u001b[0m: "
     ]
    }
   ],
   "source": [
    "LEN = 0 # distance to extend PAS coordinates to help find overlap\n",
    "OLP = 0.8 # percent overlap needed to match sites\n",
    "\n",
    "# initialize PAS usage column\n",
    "usage = np.zeros(len(s1))+1\n",
    "\n",
    "s1_temp = s1.copy()\n",
    "s2_temp = s2.copy()\n",
    "\n",
    "# go through genes\n",
    "for gene in tqdm(np.intersect1d(s1[14], s2[14])):\n",
    "    # get sites for the respective gene\n",
    "    gene_mask_s1 = np.array(s1_temp[14]==gene)\n",
    "    gene_mask_s2 = np.array(s2_temp[14]==gene)\n",
    "    \n",
    "    v_gene_s1 = s1_temp[gene_mask_s1]    \n",
    "    v_gene_s2 = s2_temp[gene_mask_s2]\n",
    "    \n",
    "    # drop the processed gene to speed up search\n",
    "    s1_temp.drop(s1_temp[gene_mask_s1].index, inplace=True)\n",
    "    s2_temp.drop(s2_temp[gene_mask_s2].index, inplace=True)\n",
    "    \n",
    "    # if either data set has all zero TPM values for that gene, skip\n",
    "    if np.sum(v_gene_s1[4]) == 0 or np.sum(v_gene_s2[4]) == 0:\n",
    "        continue\n",
    "    \n",
    "    usage_s1 = v_gene_s1[4]/np.sum(v_gene_s1[4])\n",
    "    usage_s2 = v_gene_s2[4]/np.sum(v_gene_s2[4])\n",
    "    \n",
    "    coords_s2 = [np.arange(i[1]-LEN, i[2]+1+LEN) for _, i in v_gene_s1.iterrows()]\n",
    "    \n",
    "    # match the sites\n",
    "#     for idx, PAS in v_gene_s1.iterrows():\n",
    "    \n",
    "    \n",
    "    \n",
    "    \n",
    "#     # if there is only one site for a given gene, usage will remain 1 (initial value)\n",
    "#     if len(v_gene) > 1:\n",
    "#         # if none of the sites have expression values we can't calculate usage -> nan\n",
    "#         if np.sum(v_gene[4]) == 0:\n",
    "#             np.put(usage, list(v_gene.index), np.array([np.nan]*len(v_gene)))\n",
    "#         # calculate PAS usage\n",
    "#         else:\n",
    "#             np.put(usage, list(v_gene.index), np.array(v_gene[4])/np.sum(v_gene[4]))\n",
    "\n",
    "# add to df\n",
    "# s1['usage'] = usage"
   ]
  },
  {
   "cell_type": "code",
   "execution_count": 117,
   "metadata": {},
   "outputs": [
    {
     "data": {
      "text/plain": [
       "0.7283821876069281"
      ]
     },
     "execution_count": 117,
     "metadata": {},
     "output_type": "execute_result"
    }
   ],
   "source": [
    "np.sum(s1['usage']==s1['usage'])/len(s1)"
   ]
  },
  {
   "cell_type": "code",
   "execution_count": 154,
   "metadata": {},
   "outputs": [],
   "source": [
    "coords_s2 = [np.arange(i[1], i[2]+1) for _, i in v_gene_s2.iterrows()]"
   ]
  },
  {
   "cell_type": "code",
   "execution_count": 157,
   "metadata": {},
   "outputs": [
    {
     "data": {
      "text/plain": [
       "[array([7225320, 7225321, 7225322, 7225323, 7225324, 7225325, 7225326,\n",
       "        7225327, 7225328, 7225329, 7225330, 7225331, 7225332, 7225333,\n",
       "        7225334, 7225335, 7225336, 7225337, 7225338, 7225339, 7225340,\n",
       "        7225341, 7225342, 7225343, 7225344, 7225345, 7225346, 7225347,\n",
       "        7225348, 7225349, 7225350, 7225351, 7225352, 7225353, 7225354,\n",
       "        7225355, 7225356, 7225357, 7225358, 7225359, 7225360, 7225361,\n",
       "        7225362, 7225363, 7225364, 7225365, 7225366, 7225367]),\n",
       " array([7225400, 7225401, 7225402, 7225403, 7225404, 7225405, 7225406,\n",
       "        7225407, 7225408, 7225409, 7225410, 7225411, 7225412, 7225413,\n",
       "        7225414, 7225415, 7225416, 7225417, 7225418, 7225419, 7225420,\n",
       "        7225421, 7225422, 7225423, 7225424, 7225425, 7225426, 7225427,\n",
       "        7225428, 7225429, 7225430, 7225431, 7225432, 7225433, 7225434,\n",
       "        7225435, 7225436, 7225437, 7225438, 7225439, 7225440, 7225441,\n",
       "        7225442, 7225443, 7225444, 7225445, 7225446, 7225447, 7225448,\n",
       "        7225449, 7225450]),\n",
       " array([7229267, 7229268, 7229269]),\n",
       " array([7229381, 7229382, 7229383, 7229384, 7229385, 7229386, 7229387,\n",
       "        7229388, 7229389, 7229390]),\n",
       " array([7230132, 7230133]),\n",
       " array([7230799, 7230800, 7230801, 7230802, 7230803, 7230804, 7230805,\n",
       "        7230806, 7230807, 7230808, 7230809])]"
      ]
     },
     "execution_count": 157,
     "metadata": {},
     "output_type": "execute_result"
    }
   ],
   "source": [
    "coords_s2"
   ]
  },
  {
   "cell_type": "code",
   "execution_count": 156,
   "metadata": {},
   "outputs": [
    {
     "data": {
      "text/html": [
       "<div>\n",
       "<style scoped>\n",
       "    .dataframe tbody tr th:only-of-type {\n",
       "        vertical-align: middle;\n",
       "    }\n",
       "\n",
       "    .dataframe tbody tr th {\n",
       "        vertical-align: top;\n",
       "    }\n",
       "\n",
       "    .dataframe thead th {\n",
       "        text-align: right;\n",
       "    }\n",
       "</style>\n",
       "<table border=\"1\" class=\"dataframe\">\n",
       "  <thead>\n",
       "    <tr style=\"text-align: right;\">\n",
       "      <th></th>\n",
       "      <th>0</th>\n",
       "      <th>1</th>\n",
       "      <th>2</th>\n",
       "      <th>14</th>\n",
       "      <th>4</th>\n",
       "      <th>5</th>\n",
       "    </tr>\n",
       "  </thead>\n",
       "  <tbody>\n",
       "    <tr>\n",
       "      <th>135821</th>\n",
       "      <td>17</td>\n",
       "      <td>7225320</td>\n",
       "      <td>7225367</td>\n",
       "      <td>ENSG00000004975.12</td>\n",
       "      <td>45.0289</td>\n",
       "      <td>-</td>\n",
       "    </tr>\n",
       "    <tr>\n",
       "      <th>135822</th>\n",
       "      <td>17</td>\n",
       "      <td>7225400</td>\n",
       "      <td>7225450</td>\n",
       "      <td>ENSG00000004975.12</td>\n",
       "      <td>0.0000</td>\n",
       "      <td>-</td>\n",
       "    </tr>\n",
       "    <tr>\n",
       "      <th>135823</th>\n",
       "      <td>17</td>\n",
       "      <td>7229267</td>\n",
       "      <td>7229269</td>\n",
       "      <td>ENSG00000004975.12</td>\n",
       "      <td>0.0000</td>\n",
       "      <td>-</td>\n",
       "    </tr>\n",
       "    <tr>\n",
       "      <th>135824</th>\n",
       "      <td>17</td>\n",
       "      <td>7229381</td>\n",
       "      <td>7229390</td>\n",
       "      <td>ENSG00000004975.12</td>\n",
       "      <td>0.0000</td>\n",
       "      <td>-</td>\n",
       "    </tr>\n",
       "    <tr>\n",
       "      <th>135825</th>\n",
       "      <td>17</td>\n",
       "      <td>7230132</td>\n",
       "      <td>7230133</td>\n",
       "      <td>ENSG00000004975.12</td>\n",
       "      <td>0.0000</td>\n",
       "      <td>-</td>\n",
       "    </tr>\n",
       "    <tr>\n",
       "      <th>135826</th>\n",
       "      <td>17</td>\n",
       "      <td>7230799</td>\n",
       "      <td>7230809</td>\n",
       "      <td>ENSG00000004975.12</td>\n",
       "      <td>0.0000</td>\n",
       "      <td>-</td>\n",
       "    </tr>\n",
       "  </tbody>\n",
       "</table>\n",
       "</div>"
      ],
      "text/plain": [
       "        0        1        2                   14       4  5 \n",
       "135821  17  7225320  7225367  ENSG00000004975.12  45.0289  -\n",
       "135822  17  7225400  7225450  ENSG00000004975.12   0.0000  -\n",
       "135823  17  7229267  7229269  ENSG00000004975.12   0.0000  -\n",
       "135824  17  7229381  7229390  ENSG00000004975.12   0.0000  -\n",
       "135825  17  7230132  7230133  ENSG00000004975.12   0.0000  -\n",
       "135826  17  7230799  7230809  ENSG00000004975.12   0.0000  -"
      ]
     },
     "execution_count": 156,
     "metadata": {},
     "output_type": "execute_result"
    }
   ],
   "source": [
    "v_gene_s1"
   ]
  },
  {
   "cell_type": "code",
   "execution_count": 64,
   "metadata": {},
   "outputs": [
    {
     "data": {
      "image/png": "[encoded data removed]",
      "text/plain": [
       "<Figure size 432x288 with 1 Axes>"
      ]
     },
     "metadata": {
      "needs_background": "light"
     },
     "output_type": "display_data"
    },
    {
     "name": "stdout",
     "output_type": "stream",
     "text": [
      "0.08563483399323264\n"
     ]
    }
   ],
   "source": [
    "plt.hist(np.array(s1[4][s1[4]!=0]), bins=np.arange(0, 300, 10))\n",
    "plt.yscale('log')\n",
    "plt.show()\n",
    "print(np.sum(s1[4]!=0)/len(s1))"
   ]
  },
  {
   "cell_type": "code",
   "execution_count": 67,
   "metadata": {},
   "outputs": [
    {
     "data": {
      "image/png": "[encoded data removed]",
      "text/plain": [
       "<Figure size 432x288 with 1 Axes>"
      ]
     },
     "metadata": {
      "needs_background": "light"
     },
     "output_type": "display_data"
    },
    {
     "name": "stdout",
     "output_type": "stream",
     "text": [
      "0.07069884151011031\n"
     ]
    }
   ],
   "source": [
    "plt.hist(np.array(s2[4][s2[4]!=0]), bins=np.arange(0, 300, 10))\n",
    "plt.yscale('log')\n",
    "plt.show()\n",
    "print(np.sum(s2[4]!=0)/len(s2))"
   ]
  }
 ],
 "metadata": {
  "kernelspec": {
   "display_name": "Python 3",
   "language": "python",
   "name": "python3"
  },
  "language_info": {
   "codemirror_mode": {
    "name": "ipython",
    "version": 3
   },
   "file_extension": ".py",
   "mimetype": "text/x-python",
   "name": "python",
   "nbconvert_exporter": "python",
   "pygments_lexer": "ipython3",
   "version": "3.8.5"
  }
 },
 "nbformat": 4,
 "nbformat_minor": 4
}
